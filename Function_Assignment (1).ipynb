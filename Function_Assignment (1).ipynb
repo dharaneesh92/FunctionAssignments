{
  "nbformat": 4,
  "nbformat_minor": 0,
  "metadata": {
    "colab": {
      "provenance": [],
      "collapsed_sections": []
    },
    "kernelspec": {
      "name": "python3",
      "display_name": "Python 3"
    },
    "language_info": {
      "name": "python"
    }
  },
  "cells": [
    {
      "cell_type": "markdown",
      "source": [
        "write a function which will try to find out len of a string without using an inbuilt len function "
      ],
      "metadata": {
        "id": "41HwGNPlpG6i"
      }
    },
    {
      "cell_type": "code",
      "execution_count": 25,
      "metadata": {
        "colab": {
          "base_uri": "https://localhost:8080/"
        },
        "id": "kIINBVYrn5RB",
        "outputId": "d3d707a7-1298-445a-b42f-21f31cb7550b"
      },
      "outputs": [
        {
          "output_type": "execute_result",
          "data": {
            "text/plain": [
              "10"
            ]
          },
          "metadata": {},
          "execution_count": 25
        }
      ],
      "source": [
        "string = \"Dharaneesh\"\n",
        "def length(str):\n",
        "  c = 0\n",
        "  for i in str:\n",
        "      c+=1\n",
        "  return c\n",
        "length(string)  "
      ]
    },
    {
      "cell_type": "markdown",
      "source": [
        "write a function which  will be able to print an index of list element without using an index function"
      ],
      "metadata": {
        "id": "TyGnHLqEpmIl"
      }
    },
    {
      "cell_type": "code",
      "source": [
        "list1 = [1,2,3,4.7,\"Dharaneesh\"]\n",
        "def printIndex(l):\n",
        "  for i in range(len(l)):\n",
        "      print(i,l[i],sep=':')\n",
        "printIndex(list1)      "
      ],
      "metadata": {
        "colab": {
          "base_uri": "https://localhost:8080/"
        },
        "id": "vpES6rfvpkR4",
        "outputId": "6452eea4-eb83-4d39-d7e8-77a51aa230d9"
      },
      "execution_count": 18,
      "outputs": [
        {
          "output_type": "stream",
          "name": "stdout",
          "text": [
            "0:1\n",
            "1:2\n",
            "2:3\n",
            "3:4.7\n",
            "4:Dharaneesh\n"
          ]
        }
      ]
    },
    {
      "cell_type": "markdown",
      "source": [
        "write a function which will be able to print an ip address of your system"
      ],
      "metadata": {
        "id": "LZwPhcJes15N"
      }
    },
    {
      "cell_type": "code",
      "source": [
        "import socket\n",
        "def printIP():\n",
        "  return socket.gethostbyname(socket.gethostname())\n",
        "printIP()  "
      ],
      "metadata": {
        "colab": {
          "base_uri": "https://localhost:8080/",
          "height": 35
        },
        "id": "lguzrRwrs0xi",
        "outputId": "92b984cf-2bc6-4ad0-d599-f58f1bbc4591"
      },
      "execution_count": 23,
      "outputs": [
        {
          "output_type": "execute_result",
          "data": {
            "text/plain": [
              "'172.28.0.2'"
            ],
            "application/vnd.google.colaboratory.intrinsic+json": {
              "type": "string"
            }
          },
          "metadata": {},
          "execution_count": 23
        }
      ]
    },
    {
      "cell_type": "markdown",
      "source": [
        "write a function which will shutdown your system"
      ],
      "metadata": {
        "id": "fk0qZPoJvroI"
      }
    },
    {
      "cell_type": "code",
      "source": [
        "import os\n",
        "def shutdownLP():\n",
        "  os.system(\"shutdown /s /t 10\")\n",
        "  print(\"Shutting down your system in next 10 seconds\")\n",
        "shutdownLP()  \n",
        "  "
      ],
      "metadata": {
        "colab": {
          "base_uri": "https://localhost:8080/"
        },
        "id": "jX-w8uvwvqai",
        "outputId": "ced642b3-16f0-4267-840e-b9fa2250342d"
      },
      "execution_count": 33,
      "outputs": [
        {
          "output_type": "stream",
          "name": "stdout",
          "text": [
            "Shutting down your system in next 10 seconds\n"
          ]
        }
      ]
    },
    {
      "cell_type": "markdown",
      "source": [
        "write a function which will take input as a list with any kind of numeric value and give an out as a multiplication of \n",
        "all the numeric data l = [3.5, 6.56, 4,5,\"sudh\" , \"ineuron\" , 'fsda bootcamp 2.0']"
      ],
      "metadata": {
        "id": "9cbK391s2Aaw"
      }
    },
    {
      "cell_type": "code",
      "source": [
        "l = [3.5, 6.56, 4,5,\"sudh\" , \"ineuron\" , 'fsda bootcamp 2.0']\n",
        "def prodList(l):\n",
        "    a = 1\n",
        "    for i in l :\n",
        "        if type(i) != str:\n",
        "            a = i*a\n",
        "    return a\n",
        "prodList(l)    "
      ],
      "metadata": {
        "colab": {
          "base_uri": "https://localhost:8080/"
        },
        "id": "M2Jn6pra1_pi",
        "outputId": "f8142ec7-2fe2-4235-ae22-21facb6d0905"
      },
      "execution_count": 4,
      "outputs": [
        {
          "output_type": "execute_result",
          "data": {
            "text/plain": [
              "459.19999999999993"
            ]
          },
          "metadata": {},
          "execution_count": 4
        }
      ]
    }
  ]
}